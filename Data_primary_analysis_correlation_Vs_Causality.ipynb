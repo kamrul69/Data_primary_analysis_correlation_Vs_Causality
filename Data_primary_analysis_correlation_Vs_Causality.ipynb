{
 "cells": [
  {
   "cell_type": "markdown",
   "id": "e3590c17",
   "metadata": {},
   "source": [
    "# How to make DataFrame"
   ]
  },
  {
   "cell_type": "code",
   "execution_count": 1,
   "id": "5bb6b963",
   "metadata": {},
   "outputs": [
    {
     "name": "stdout",
     "output_type": "stream",
     "text": [
      "    Duration Average_Pulse Max_Pulse  Calorie_Burnage  Hours_Work  Hours_Sleep\n",
      "0       30.0            80       120            240.0        10.0          7.0\n",
      "1       45.0            85       120            250.0        10.0          7.0\n",
      "2       45.0            90       130            260.0         8.0          7.0\n",
      "3       60.0            95       130            270.0         8.0          7.0\n",
      "4       60.0           100       140            280.0         0.0          7.0\n",
      "5        NaN           NaN       NaN              NaN         NaN          NaN\n",
      "6       60.0           105       140            290.0         7.0          8.0\n",
      "7       60.0           110       145            300.0         7.0          8.0\n",
      "8       45.0           NaN        AF              NaN         8.0          8.0\n",
      "9       45.0           115       145            310.0         8.0          8.0\n",
      "10      60.0           120       150            320.0         0.0          8.0\n",
      "11      60.0         9 000       130              NaN         NaN          8.0\n",
      "12      45.0           125       150            330.0         8.0          8.0\n"
     ]
    }
   ],
   "source": [
    "import pandas as pd\n",
    "import numpy as np\n",
    "\n",
    "data_entry = {'Duration': [30.0, 45.0, 45.0,60.0, 60.0, np.nan, 60.0, 60.0, 45.0, 45.0, 60.0, 60.0, 45.0], \n",
    "     'Average_Pulse': [80, 85, 90, 95, 100, np.nan, 105, 110, np.nan , 115, 120, '9 000', 125], \n",
    "     'Max_Pulse': [120, 120, 130, 130, 140, np.nan, 140, 145, 'AF', 145, 150, 130, 150],\n",
    "    'Calorie_Burnage': [240.0, 250.0, 260.0, 270.0, 280.0, np.nan, 290.0, 300.0,np.nan, 310.0, 320.0,np.nan, 330.0],\n",
    "    'Hours_Work': [10.0, 10.0, 8.0, 8.0, 0.0, np.nan, 7.0, 7.0, 8.0, 8.0, 0.0, np.nan, 8.0],\n",
    "    'Hours_Sleep': [7.0, 7.0, 7.0, 7.0, 7.0, np.nan, 8.0, 8.0, 8.0, 8.0, 8.0, 8.0, 8.0]}\n",
    "\n",
    "df = pd.DataFrame(data=data_entry)\n",
    "\n",
    "print(df)"
   ]
  },
  {
   "cell_type": "code",
   "execution_count": 2,
   "id": "f049d61a",
   "metadata": {},
   "outputs": [
    {
     "name": "stdout",
     "output_type": "stream",
     "text": [
      "<class 'pandas.core.frame.DataFrame'>\n",
      "RangeIndex: 13 entries, 0 to 12\n",
      "Data columns (total 6 columns):\n",
      " #   Column           Non-Null Count  Dtype  \n",
      "---  ------           --------------  -----  \n",
      " 0   Duration         12 non-null     float64\n",
      " 1   Average_Pulse    11 non-null     object \n",
      " 2   Max_Pulse        12 non-null     object \n",
      " 3   Calorie_Burnage  10 non-null     float64\n",
      " 4   Hours_Work       11 non-null     float64\n",
      " 5   Hours_Sleep      12 non-null     float64\n",
      "dtypes: float64(4), object(2)\n",
      "memory usage: 752.0+ bytes\n",
      "None\n"
     ]
    }
   ],
   "source": [
    "print(df.info())"
   ]
  },
  {
   "cell_type": "markdown",
   "id": "c6cfe007",
   "metadata": {},
   "source": [
    "### Remove blank rows or NaN rows"
   ]
  },
  {
   "cell_type": "code",
   "execution_count": 3,
   "id": "eeaba9d7",
   "metadata": {},
   "outputs": [
    {
     "name": "stdout",
     "output_type": "stream",
     "text": [
      "None\n"
     ]
    }
   ],
   "source": [
    "print(df.dropna(inplace = True))"
   ]
  },
  {
   "cell_type": "code",
   "execution_count": 4,
   "id": "dd9e8f6f",
   "metadata": {},
   "outputs": [
    {
     "name": "stdout",
     "output_type": "stream",
     "text": [
      "    Duration Average_Pulse Max_Pulse  Calorie_Burnage  Hours_Work  Hours_Sleep\n",
      "0       30.0            80       120            240.0        10.0          7.0\n",
      "1       45.0            85       120            250.0        10.0          7.0\n",
      "2       45.0            90       130            260.0         8.0          7.0\n",
      "3       60.0            95       130            270.0         8.0          7.0\n",
      "4       60.0           100       140            280.0         0.0          7.0\n",
      "6       60.0           105       140            290.0         7.0          8.0\n",
      "7       60.0           110       145            300.0         7.0          8.0\n",
      "9       45.0           115       145            310.0         8.0          8.0\n",
      "10      60.0           120       150            320.0         0.0          8.0\n",
      "12      45.0           125       150            330.0         8.0          8.0\n"
     ]
    }
   ],
   "source": [
    "print(df)"
   ]
  },
  {
   "cell_type": "code",
   "execution_count": 5,
   "id": "bd962e58",
   "metadata": {},
   "outputs": [
    {
     "name": "stdout",
     "output_type": "stream",
     "text": [
      "<class 'pandas.core.frame.DataFrame'>\n",
      "Int64Index: 10 entries, 0 to 12\n",
      "Data columns (total 6 columns):\n",
      " #   Column           Non-Null Count  Dtype  \n",
      "---  ------           --------------  -----  \n",
      " 0   Duration         10 non-null     float64\n",
      " 1   Average_Pulse    10 non-null     object \n",
      " 2   Max_Pulse        10 non-null     object \n",
      " 3   Calorie_Burnage  10 non-null     float64\n",
      " 4   Hours_Work       10 non-null     float64\n",
      " 5   Hours_Sleep      10 non-null     float64\n",
      "dtypes: float64(4), object(2)\n",
      "memory usage: 560.0+ bytes\n",
      "None\n"
     ]
    }
   ],
   "source": [
    "print(df.info())"
   ]
  },
  {
   "cell_type": "code",
   "execution_count": 6,
   "id": "4509b025",
   "metadata": {},
   "outputs": [],
   "source": [
    "# we must convert type object to float64. why? without it we can not analysis the data."
   ]
  },
  {
   "cell_type": "code",
   "execution_count": 7,
   "id": "66d2191e",
   "metadata": {},
   "outputs": [],
   "source": [
    "df['Average_Pulse'] = df['Average_Pulse'].astype(float)\n",
    "df['Max_Pulse'] = df['Max_Pulse'].astype(float)"
   ]
  },
  {
   "cell_type": "code",
   "execution_count": 8,
   "id": "45db27c8",
   "metadata": {},
   "outputs": [
    {
     "name": "stdout",
     "output_type": "stream",
     "text": [
      "<class 'pandas.core.frame.DataFrame'>\n",
      "Int64Index: 10 entries, 0 to 12\n",
      "Data columns (total 6 columns):\n",
      " #   Column           Non-Null Count  Dtype  \n",
      "---  ------           --------------  -----  \n",
      " 0   Duration         10 non-null     float64\n",
      " 1   Average_Pulse    10 non-null     float64\n",
      " 2   Max_Pulse        10 non-null     float64\n",
      " 3   Calorie_Burnage  10 non-null     float64\n",
      " 4   Hours_Work       10 non-null     float64\n",
      " 5   Hours_Sleep      10 non-null     float64\n",
      "dtypes: float64(6)\n",
      "memory usage: 560.0 bytes\n",
      "None\n"
     ]
    }
   ],
   "source": [
    "print(df.info())"
   ]
  },
  {
   "cell_type": "markdown",
   "id": "b40de36b",
   "metadata": {},
   "source": [
    "# Analyze the data"
   ]
  },
  {
   "cell_type": "code",
   "execution_count": 9,
   "id": "747f40b6",
   "metadata": {},
   "outputs": [
    {
     "name": "stdout",
     "output_type": "stream",
     "text": [
      "        Duration  Average_Pulse   Max_Pulse  Calorie_Burnage  Hours_Work  \\\n",
      "count  10.000000      10.000000   10.000000        10.000000   10.000000   \n",
      "mean   51.000000     102.500000  137.000000       285.000000    6.600000   \n",
      "std    10.488088      15.138252   11.352924        30.276504    3.627059   \n",
      "min    30.000000      80.000000  120.000000       240.000000    0.000000   \n",
      "25%    45.000000      91.250000  130.000000       262.500000    7.000000   \n",
      "50%    52.500000     102.500000  140.000000       285.000000    8.000000   \n",
      "75%    60.000000     113.750000  145.000000       307.500000    8.000000   \n",
      "max    60.000000     125.000000  150.000000       330.000000   10.000000   \n",
      "\n",
      "       Hours_Sleep  \n",
      "count    10.000000  \n",
      "mean      7.500000  \n",
      "std       0.527046  \n",
      "min       7.000000  \n",
      "25%       7.000000  \n",
      "50%       7.500000  \n",
      "75%       8.000000  \n",
      "max       8.000000  \n"
     ]
    }
   ],
   "source": [
    "print(df.describe())"
   ]
  },
  {
   "cell_type": "code",
   "execution_count": null,
   "id": "311d5a6e",
   "metadata": {},
   "outputs": [],
   "source": [
    "## comment: as an example (75% percentile) it means that 75 % of all the training section average pluse was \n",
    "## 113.75 beats or lower. We can say also that 25 % of all the training section average pluse was 113.75 beats \n",
    "## or higher. "
   ]
  },
  {
   "cell_type": "markdown",
   "id": "a232b335",
   "metadata": {},
   "source": [
    "#### How to find 10 percentile"
   ]
  },
  {
   "cell_type": "code",
   "execution_count": 35,
   "id": "55eeb0eb",
   "metadata": {},
   "outputs": [
    {
     "name": "stdout",
     "output_type": "stream",
     "text": [
      "120.0\n"
     ]
    }
   ],
   "source": [
    "Max_Pulse = df['Max_Pulse']\n",
    "percentile_10 = np.percentile(Max_Pulse, 10)\n",
    "print(percentile_10)"
   ]
  },
  {
   "cell_type": "markdown",
   "id": "d1a97bfb",
   "metadata": {},
   "source": [
    "#### Standard deviation"
   ]
  },
  {
   "cell_type": "code",
   "execution_count": null,
   "id": "dd1c031c",
   "metadata": {},
   "outputs": [],
   "source": [
    "# low standard deviation means most of the numbers are closed to mean. Vice verse for high std. "
   ]
  },
  {
   "cell_type": "code",
   "execution_count": 41,
   "id": "317d7379",
   "metadata": {},
   "outputs": [
    {
     "name": "stdout",
     "output_type": "stream",
     "text": [
      "Duration            9.949874\n",
      "Average_Pulse      14.361407\n",
      "Max_Pulse          10.770330\n",
      "Calorie_Burnage    28.722813\n",
      "Hours_Work          3.440930\n",
      "Hours_Sleep         0.500000\n",
      "dtype: float64\n"
     ]
    }
   ],
   "source": [
    "standard_deviation = np.std(df)\n",
    "print(standard_deviation)"
   ]
  },
  {
   "cell_type": "markdown",
   "id": "5d43156d",
   "metadata": {},
   "source": [
    "#### Coefficient of variation"
   ]
  },
  {
   "cell_type": "code",
   "execution_count": 42,
   "id": "de6311d9",
   "metadata": {},
   "outputs": [
    {
     "name": "stdout",
     "output_type": "stream",
     "text": [
      "Duration           0.195096\n",
      "Average_Pulse      0.140111\n",
      "Max_Pulse          0.078616\n",
      "Calorie_Burnage    0.100782\n",
      "Hours_Work         0.521353\n",
      "Hours_Sleep        0.066667\n",
      "dtype: float64\n"
     ]
    }
   ],
   "source": [
    "# it gives us an idea that how large the standard deviation is. And which is equal to (standard deviation/mean)\n",
    "coefficient_of_variation = (np.std(df)/np.mean(df))\n",
    "print(coefficient_of_variation)"
   ]
  },
  {
   "cell_type": "code",
   "execution_count": 44,
   "id": "d4e8880c",
   "metadata": {},
   "outputs": [],
   "source": [
    "# comment: Hours_work has higher standard deviation compared to others."
   ]
  },
  {
   "cell_type": "markdown",
   "id": "1a880366",
   "metadata": {},
   "source": [
    "#### variance"
   ]
  },
  {
   "cell_type": "code",
   "execution_count": 45,
   "id": "36eb77a8",
   "metadata": {},
   "outputs": [
    {
     "name": "stdout",
     "output_type": "stream",
     "text": [
      "Duration            99.00\n",
      "Average_Pulse      206.25\n",
      "Max_Pulse          116.00\n",
      "Calorie_Burnage    825.00\n",
      "Hours_Work          11.84\n",
      "Hours_Sleep          0.25\n",
      "dtype: float64\n"
     ]
    }
   ],
   "source": [
    "# which is the square of standard deviation.\n",
    "var = np.var(df)\n",
    "print(var)"
   ]
  },
  {
   "cell_type": "markdown",
   "id": "eddffe4f",
   "metadata": {},
   "source": [
    "# Intercept and Slope"
   ]
  },
  {
   "cell_type": "code",
   "execution_count": 38,
   "id": "5ff2d7ad",
   "metadata": {},
   "outputs": [],
   "source": [
    "x = df['Average_Pulse']\n",
    "y = df['Calorie_Burnage']\n",
    "Intercept_Slope = np.polyfit(x, y, 1)"
   ]
  },
  {
   "cell_type": "code",
   "execution_count": 39,
   "id": "a58bbf63",
   "metadata": {},
   "outputs": [
    {
     "name": "stdout",
     "output_type": "stream",
     "text": [
      "[ 2. 80.]\n"
     ]
    }
   ],
   "source": [
    "print(Intercept_Slope)"
   ]
  },
  {
   "cell_type": "markdown",
   "id": "fe3b9031",
   "metadata": {},
   "source": [
    "## Correlation matrix in python"
   ]
  },
  {
   "cell_type": "code",
   "execution_count": 46,
   "id": "f40eb55c",
   "metadata": {},
   "outputs": [
    {
     "name": "stdout",
     "output_type": "stream",
     "text": [
      "                 Duration  Average_Pulse  Max_Pulse  Calorie_Burnage  \\\n",
      "Duration             1.00           0.42       0.52             0.42   \n",
      "Average_Pulse        0.42           1.00       0.97             1.00   \n",
      "Max_Pulse            0.52           0.97       1.00             0.97   \n",
      "Calorie_Burnage      0.42           1.00       0.97             1.00   \n",
      "Hours_Work          -0.63          -0.42      -0.56            -0.42   \n",
      "Hours_Sleep          0.30           0.87       0.84             0.87   \n",
      "\n",
      "                 Hours_Work  Hours_Sleep  \n",
      "Duration              -0.63         0.30  \n",
      "Average_Pulse         -0.42         0.87  \n",
      "Max_Pulse             -0.56         0.84  \n",
      "Calorie_Burnage       -0.42         0.87  \n",
      "Hours_Work             1.00        -0.17  \n",
      "Hours_Sleep           -0.17         1.00  \n"
     ]
    }
   ],
   "source": [
    "Corr_matrix = round(df.corr(), 2)\n",
    "print(Corr_matrix)"
   ]
  },
  {
   "cell_type": "code",
   "execution_count": 47,
   "id": "c4a49d2f",
   "metadata": {},
   "outputs": [],
   "source": [
    "# Using Heat Map to visualization the correlation between variables"
   ]
  },
  {
   "cell_type": "code",
   "execution_count": 58,
   "id": "b3751d26",
   "metadata": {
    "scrolled": true
   },
   "outputs": [
    {
     "data": {
      "image/png": "[encoded data removed]",
      "text/plain": [
       "<Figure size 432x288 with 2 Axes>"
      ]
     },
     "metadata": {
      "needs_background": "light"
     },
     "output_type": "display_data"
    }
   ],
   "source": [
    "import matplotlib.pyplot as plt\n",
    "import seaborn as sns\n",
    "#seaborn is a visiulation library based on matplotlib\n",
    "\n",
    "correlation_df = df.corr()\n",
    "\n",
    "axis_corr = sns.heatmap(correlation_df, vmin = -1, vmax = 1, center = 0, \n",
    "                        cmap = sns.diverging_palette(50, 500, n=500), square = True)\n",
    "\n",
    "plt.show()\n"
   ]
  },
  {
   "cell_type": "markdown",
   "id": "ed03d2fd",
   "metadata": {},
   "source": [
    "# Correlation Vs Causality"
   ]
  },
  {
   "cell_type": "code",
   "execution_count": null,
   "id": "a7fbc2a2",
   "metadata": {},
   "outputs": [],
   "source": [
    "# If we look a good correlation/high correlation between two variables, it does not mean \n",
    "# that one variables causes other variables.\n",
    "# Correlation just a number, measure how closely the data are related. \n",
    "\n",
    "# On the other hand, Causality is one step further, it says one variable causes another variables (i.e. x causes y)"
   ]
  }
 ],
 "metadata": {
  "kernelspec": {
   "display_name": "Python 3 (ipykernel)",
   "language": "python",
   "name": "python3"
  },
  "language_info": {
   "codemirror_mode": {
    "name": "ipython",
    "version": 3
   },
   "file_extension": ".py",
   "mimetype": "text/x-python",
   "name": "python",
   "nbconvert_exporter": "python",
   "pygments_lexer": "ipython3",
   "version": "3.7.5"
  }
 },
 "nbformat": 4,
 "nbformat_minor": 5
}
